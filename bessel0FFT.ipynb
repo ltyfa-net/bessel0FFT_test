import numpy as np
import matplotlib.pyplot as plt

import scipy.special
from scipy import fftpack


x = np.linspace(-7, 7, 201)
dx = x[1]-x[0]
j0 = scipy.special.jn(0,x)



j0_fft = fftpack.fft(j0)
freq = fftpack.fftfreq(j0.size, d = dx)
arg_freq = fftpack.fftshift(freq)
arg_j0_fft = fftpack.fftshift(j0_fft)


%matplotlib notebook 
fig = plt.figure(1)

sub1 = fig.add_subplot(211)
sub1.plot(x,j0)
sub1.set_xlabel('x')
sub1.set_ylabel('j0')

sub1 = fig.add_subplot(212)
sub1.plot(arg_freq,arg_j0_fft)
sub1.set_xlabel('frequence')
sub1.set_ylabel('FFT of j0')
